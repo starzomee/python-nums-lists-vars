{
 "cells": [
  {
   "cell_type": "code",
   "execution_count": 1,
   "id": "6e17488a-8d15-4222-828c-e5ce7597000b",
   "metadata": {},
   "outputs": [],
   "source": [
    "# Create 3 variables to store street, city and country, now create address variable to store entire address. Use two ways of creating this variable, one using + operator and the other using f-string. Now Print the address in such a way that the street, city and country prints in a separate line\n",
    "# Create a variable to store the string \"Earth revolves around the sun\"\n",
    "# Print \"revolves\" using slice operator\n",
    "# Print \"sun\" using negative index\n",
    "# Create two variables to store how many fruits and vegetables you eat in a day. Now Print \"I eat x veggies and y fruits daily\" where x and y presents vegetables and fruits that you eat everyday. Use python f string for this.\n",
    "# I have a string variable called s='maine 200 banana khaye'. This of course is a wrong statement, the correct statement is 'maine 10 samosa khaye'. Replace incorrect words in original strong with new ones and print the new string. Also try to do this in one line."
   ]
  },
  {
   "cell_type": "code",
   "execution_count": 5,
   "id": "ecaddf58-da0e-485f-ab9a-6d0e1850c206",
   "metadata": {},
   "outputs": [
    {
     "data": {
      "text/plain": [
       "'street 3  peshawar  pakistan '"
      ]
     },
     "execution_count": 5,
     "metadata": {},
     "output_type": "execute_result"
    }
   ],
   "source": [
    "# 1. \n",
    "# Create 3 variables to store street, city and country, now create address variable to store entire address. \n",
    "# Use two ways of creating this variable, one using + operator and the other using f-string. \n",
    "# Now Print the address in such a way that the street, city and country prints in a separate line\n",
    "\n",
    "street  = \"street 3\" \n",
    "city = \" peshawar \"\n",
    "country = \"pakistan \" \n",
    "address = street   + \" \" + city + \" \" + country \n",
    "address"
   ]
  },
  {
   "cell_type": "code",
   "execution_count": 6,
   "id": "377e2317-5c11-4802-8de3-1adb82f3b85b",
   "metadata": {},
   "outputs": [
    {
     "data": {
      "text/plain": [
       "'revolves'"
      ]
     },
     "execution_count": 6,
     "metadata": {},
     "output_type": "execute_result"
    }
   ],
   "source": [
    "# 2. \n",
    "# Create a variable to store the string \"Earth revolves around the sun\"\n",
    "# Print \"revolves\" using slice operator\n",
    "# Print \"sun\" using negative index\n",
    "Earth = \"Earth revolves around the sun\" \n",
    "Earth[6 : 14]"
   ]
  },
  {
   "cell_type": "code",
   "execution_count": 12,
   "id": "a65e3306-13b8-4a16-8561-0e0664528317",
   "metadata": {},
   "outputs": [
    {
     "data": {
      "text/plain": [
       "' sun'"
      ]
     },
     "execution_count": 12,
     "metadata": {},
     "output_type": "execute_result"
    }
   ],
   "source": [
    "Earth [25 :  ]"
   ]
  },
  {
   "cell_type": "code",
   "execution_count": 3,
   "id": "f909064f-f8d5-47e4-ab19-89a6ee1c434a",
   "metadata": {},
   "outputs": [
    {
     "name": "stdout",
     "output_type": "stream",
     "text": [
      "i eat  5  vegies and 10  fruits\n"
     ]
    }
   ],
   "source": [
    "# 3.\n",
    "# Create two variables to store how many fruits and vegetables you eat in a day. \n",
    "# Now Print \"I eat x veggies and y fruits daily\" where x and y presents vegetables and fruits that you eat everyday. \n",
    "# Use python f string for this.\n",
    "\n",
    "fruits_i_eat = 10 \n",
    "vegetales_i_eat = 5\n",
    "print(f\"i eat  {vegetales_i_eat}  vegies and {fruits_i_eat }  fruits\")"
   ]
  },
  {
   "cell_type": "code",
   "execution_count": 14,
   "id": "d9f10903-a755-4475-b6f8-b92ec5bc18b9",
   "metadata": {},
   "outputs": [
    {
     "data": {
      "text/plain": [
       "'maine  10 samosa khaye'"
      ]
     },
     "execution_count": 14,
     "metadata": {},
     "output_type": "execute_result"
    }
   ],
   "source": [
    "# 4. \n",
    "# I have a string variable called s='maine 200 banana khaye'.\n",
    "# This of course is a wrong statement, the correct statement is 'maine 10 samosa khaye'.\n",
    "# Replace incorrect words in original strong with new ones and print the new string. \n",
    "# Also try to do this in one line.\n",
    "s = 'maine 200 banana khaye' # false one \n",
    "correct = 'maine 10 samosa khaye'  # correct one \n",
    "\n",
    "# replace correct one with false one \n",
    "\n",
    "\n",
    "corrected_sentence = s.replace(\"200\" ,\" 10\").replace('banana' , 'samosa' )\n",
    "\n",
    "corrected_sentence\n"
   ]
  },
  {
   "cell_type": "code",
   "execution_count": null,
   "id": "f4275c7f-9c50-43e1-a718-9c228a4bd109",
   "metadata": {},
   "outputs": [],
   "source": []
  }
 ],
 "metadata": {
  "kernelspec": {
   "display_name": "Python 3 (ipykernel)",
   "language": "python",
   "name": "python3"
  },
  "language_info": {
   "codemirror_mode": {
    "name": "ipython",
    "version": 3
   },
   "file_extension": ".py",
   "mimetype": "text/x-python",
   "name": "python",
   "nbconvert_exporter": "python",
   "pygments_lexer": "ipython3",
   "version": "3.11.4"
  },
  "widgets": {
   "application/vnd.jupyter.widget-state+json": {
    "state": {},
    "version_major": 2,
    "version_minor": 0
   }
  }
 },
 "nbformat": 4,
 "nbformat_minor": 5
}
