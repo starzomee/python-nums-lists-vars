{
 "cells": [
  {
   "cell_type": "code",
   "execution_count": 1,
   "id": "6f331754-378f-461f-aa39-251f147f89eb",
   "metadata": {},
   "outputs": [],
   "source": [
    "# 1. \n",
    "'''List Exercise\n",
    "Let us say your expense for every month are listed below,\n",
    "January - 2200\n",
    "February - 2350\n",
    "March - 2600\n",
    "April - 2130\n",
    "May - 2190\n",
    "Create a list to store these monthly expenses and using that find out,'''\n",
    "\n",
    "monthly_expense = [2200 , 2350 , 2600 , 2130 , 2190]\n",
    "\n",
    "\n"
   ]
  },
  {
   "cell_type": "code",
   "execution_count": 2,
   "id": "2affbce4-ef54-434a-9aaf-6e6c95898f90",
   "metadata": {},
   "outputs": [
    {
     "data": {
      "text/plain": [
       "150"
      ]
     },
     "execution_count": 2,
     "metadata": {},
     "output_type": "execute_result"
    }
   ],
   "source": [
    "# 1. In Feb, how many dollars you spent extra compare to January?\n",
    "january = 2200 \n",
    "febuary = 2350 \n",
    "extra_expnse_in_febuary = febuary - january\n",
    "extra_expnse_in_febuary"
   ]
  },
  {
   "cell_type": "code",
   "execution_count": 3,
   "id": "275c1e92-a7d6-4456-a96a-2d92d3fe2fbb",
   "metadata": {},
   "outputs": [
    {
     "data": {
      "text/plain": [
       "7150"
      ]
     },
     "execution_count": 3,
     "metadata": {},
     "output_type": "execute_result"
    }
   ],
   "source": [
    "# 1.2. Find out your total expense in first quarter (first three months) of the year.\n",
    "three_months =  monthly_expense[:3]\n",
    "total = sum(three_months)\n",
    "total"
   ]
  },
  {
   "cell_type": "code",
   "execution_count": 4,
   "id": "7af92ca6-97bc-4541-9fa9-f904db89aa2d",
   "metadata": {},
   "outputs": [
    {
     "data": {
      "text/plain": [
       "False"
      ]
     },
     "execution_count": 4,
     "metadata": {},
     "output_type": "execute_result"
    }
   ],
   "source": [
    "# 1.3. Find out if you spent exactly 2000 dollars in any month\n",
    "# here we will use \"in\" \n",
    "2000 in monthly_expense "
   ]
  },
  {
   "cell_type": "code",
   "execution_count": 5,
   "id": "441f42d5-3a10-454a-83bb-bd17a92d476d",
   "metadata": {},
   "outputs": [],
   "source": [
    "# 1.4. June month just finished and your expense is 1980 dollar. Add this item to our monthly expense list\n",
    "# we will use \"append\" for it \n",
    "july = 1980\n",
    "monthly_expense.append(july)"
   ]
  },
  {
   "cell_type": "code",
   "execution_count": 6,
   "id": "dc1ad476-7d1a-4d77-973b-55aff9d936f7",
   "metadata": {},
   "outputs": [
    {
     "data": {
      "text/plain": [
       "[2200, 2350, 2600, 2130, 2190, 1980]"
      ]
     },
     "execution_count": 6,
     "metadata": {},
     "output_type": "execute_result"
    }
   ],
   "source": [
    "monthly_expense"
   ]
  },
  {
   "cell_type": "code",
   "execution_count": 12,
   "id": "5ba2b064-a9c0-4f32-95ef-fd1c91883c5b",
   "metadata": {},
   "outputs": [
    {
     "data": {
      "text/plain": [
       "[2200, 2350, 2600, 1730, 2190, 2330, 1980]"
      ]
     },
     "execution_count": 12,
     "metadata": {},
     "output_type": "execute_result"
    }
   ],
   "source": [
    "\"\"\" 1.5.  You returned an item that you bought in a month of April and\n",
    "   got a refund of 200$. Make a correction to your monthly expense list\n",
    "based on this\"\"\"\n",
    "\n",
    "refund = 200 \n",
    "april_value = 2130  # before refund \n",
    "monthly_expense[3] -= refund\n",
    "monthly_expense"
   ]
  },
  {
   "cell_type": "code",
   "execution_count": 13,
   "id": "39734532-8010-4a8a-a07d-5c9e99e8d2f3",
   "metadata": {},
   "outputs": [],
   "source": [
    "# ******************************************************************************************************\n",
    "# **********************************************************************\n",
    "# ******************************************************************************************************"
   ]
  },
  {
   "cell_type": "code",
   "execution_count": 14,
   "id": "80e0f6a4-ba90-450e-a590-720173daebae",
   "metadata": {},
   "outputs": [],
   "source": [
    "# 2. You have a list of your favourite marvel super heros.\n",
    "heros=['spider man','thor','hulk','iron man','captain america'] \n",
    "# Using this find out,"
   ]
  },
  {
   "cell_type": "code",
   "execution_count": 15,
   "id": "4ebe78ad-028b-4479-8093-f46d708c8d0d",
   "metadata": {},
   "outputs": [
    {
     "data": {
      "text/plain": [
       "5"
      ]
     },
     "execution_count": 15,
     "metadata": {},
     "output_type": "execute_result"
    }
   ],
   "source": [
    "# 2.1 Length of the list \n",
    "len(heros)"
   ]
  },
  {
   "cell_type": "code",
   "execution_count": 16,
   "id": "8be0857e-2963-4dca-93cd-95c8de0c08d4",
   "metadata": {},
   "outputs": [
    {
     "data": {
      "text/plain": [
       "['spider man', 'thor', 'hulk', 'iron man', 'captain america', 'black panther']"
      ]
     },
     "execution_count": 16,
     "metadata": {},
     "output_type": "execute_result"
    }
   ],
   "source": [
    "# 2.2 Add 'black panther' at the end of this list \n",
    "# we will use \"append\" for it \n",
    "heros.append(\"black panther\")\n",
    "heros"
   ]
  },
  {
   "cell_type": "code",
   "execution_count": 17,
   "id": "b2f71751-09cb-4fb6-8022-711da7786ff5",
   "metadata": {},
   "outputs": [],
   "source": [
    "# 2.3 You realize that you need to add 'black panther' after 'hulk', so remove it from the list first and then add it after 'hulk'\n",
    "# for removal we can use \"del , pop , remove()\" \n",
    "del heros[-1]"
   ]
  },
  {
   "cell_type": "code",
   "execution_count": 18,
   "id": "89afc813-82ed-4696-ac04-259af1ec5f5c",
   "metadata": {},
   "outputs": [
    {
     "data": {
      "text/plain": [
       "['spider man', 'thor', 'hulk', 'iron man', 'captain america']"
      ]
     },
     "execution_count": 18,
     "metadata": {},
     "output_type": "execute_result"
    }
   ],
   "source": [
    "heros"
   ]
  },
  {
   "cell_type": "code",
   "execution_count": 22,
   "id": "cc7c28a3-4d52-43cc-a5d2-4c8089c6b00a",
   "metadata": {},
   "outputs": [],
   "source": [
    "heros.insert(2, \"black panther\")"
   ]
  },
  {
   "cell_type": "code",
   "execution_count": 23,
   "id": "627a02ca-5c6a-4c88-b33d-407bea6f4e0f",
   "metadata": {},
   "outputs": [
    {
     "data": {
      "text/plain": [
       "['spider man',\n",
       " 'thor',\n",
       " 'black panther',\n",
       " 'hulk',\n",
       " 'black panther',\n",
       " 'iron man',\n",
       " 'captain america']"
      ]
     },
     "execution_count": 23,
     "metadata": {},
     "output_type": "execute_result"
    }
   ],
   "source": [
    "heros"
   ]
  },
  {
   "cell_type": "code",
   "execution_count": 27,
   "id": "e20f6540-a292-4fff-9644-b8adcb534a1e",
   "metadata": {},
   "outputs": [
    {
     "data": {
      "text/plain": [
       "['spider man',\n",
       " 'doctor strange',\n",
       " 'black panther',\n",
       " 'iron man',\n",
       " 'captain america']"
      ]
     },
     "execution_count": 27,
     "metadata": {},
     "output_type": "execute_result"
    }
   ],
   "source": [
    " \"\"\"2.4  now you don't like thor and hulk because they get angry easily :)\n",
    "   So you want to remove thor and hulk from list and replace them with doctor strange (because he is cool).\n",
    "   Do that with one line of code.\"\"\" \n",
    "heros[1:3]=['doctor strange']\n",
    "heros"
   ]
  },
  {
   "cell_type": "code",
   "execution_count": 28,
   "id": "167a32c8-ac04-499a-b65d-cd533b832246",
   "metadata": {},
   "outputs": [
    {
     "data": {
      "text/plain": [
       "['black panther',\n",
       " 'captain america',\n",
       " 'doctor strange',\n",
       " 'iron man',\n",
       " 'spider man']"
      ]
     },
     "execution_count": 28,
     "metadata": {},
     "output_type": "execute_result"
    }
   ],
   "source": [
    "# 2.5 Sort the heros list in alphabetical order (Hint. Use dir() functions to list down all functions available in list)\n",
    "heros.sort()\n",
    "heros"
   ]
  },
  {
   "cell_type": "code",
   "execution_count": null,
   "id": "b4006c8d-8440-4a8a-9247-6ef7fb2309bc",
   "metadata": {},
   "outputs": [],
   "source": []
  }
 ],
 "metadata": {
  "kernelspec": {
   "display_name": "Python 3 (ipykernel)",
   "language": "python",
   "name": "python3"
  },
  "language_info": {
   "codemirror_mode": {
    "name": "ipython",
    "version": 3
   },
   "file_extension": ".py",
   "mimetype": "text/x-python",
   "name": "python",
   "nbconvert_exporter": "python",
   "pygments_lexer": "ipython3",
   "version": "3.11.4"
  },
  "widgets": {
   "application/vnd.jupyter.widget-state+json": {
    "state": {},
    "version_major": 2,
    "version_minor": 0
   }
  }
 },
 "nbformat": 4,
 "nbformat_minor": 5
}
