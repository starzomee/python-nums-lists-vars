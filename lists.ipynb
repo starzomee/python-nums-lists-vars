{
 "cells": [
  {
   "cell_type": "code",
   "execution_count": 1,
   "id": "b67c1f95-3844-498e-a953-d16b39ba0e49",
   "metadata": {},
   "outputs": [
    {
     "ename": "SyntaxError",
     "evalue": "invalid syntax (3911389433.py, line 7)",
     "output_type": "error",
     "traceback": [
      "\u001b[1;36m  Cell \u001b[1;32mIn[1], line 7\u001b[1;36m\u001b[0m\n\u001b[1;33m    .\u001b[0m\n\u001b[1;37m    ^\u001b[0m\n\u001b[1;31mSyntaxError\u001b[0m\u001b[1;31m:\u001b[0m invalid syntax\n"
     ]
    }
   ],
   "source": [
    "# lists in python \n",
    "# grocery list [bread , pasta , fruits , vegetables]\n",
    "\n",
    "#     without using list you do this \n",
    "item1 = bread \n",
    "item2 = pasta \n",
    ".\n",
    ".\n",
    ".\n",
    ".\n",
    ".\n",
    ".\n",
    ".\n",
    "itemn = n"
   ]
  },
  {
   "cell_type": "code",
   "execution_count": 2,
   "id": "7715ff2f-5993-4b64-8649-b89871046139",
   "metadata": {},
   "outputs": [
    {
     "data": {
      "text/plain": [
       "['bread', 'pasta', 'fruits', ' vegetables']"
      ]
     },
     "execution_count": 2,
     "metadata": {},
     "output_type": "execute_result"
    }
   ],
   "source": [
    "# list \n",
    "items = [\"bread\" , \"pasta\" , \"fruits\" ,\" vegetables\"]\n",
    "items\n"
   ]
  },
  {
   "cell_type": "code",
   "execution_count": 3,
   "id": "91e5bc8d-186c-4769-af3a-899077209a67",
   "metadata": {},
   "outputs": [
    {
     "data": {
      "text/plain": [
       "'bread'"
      ]
     },
     "execution_count": 3,
     "metadata": {},
     "output_type": "execute_result"
    }
   ],
   "source": [
    "items[0]"
   ]
  },
  {
   "cell_type": "code",
   "execution_count": 5,
   "id": "e65ea1eb-bd00-430b-a255-f227e938c8fc",
   "metadata": {},
   "outputs": [
    {
     "data": {
      "text/plain": [
       "' vegetables'"
      ]
     },
     "execution_count": 5,
     "metadata": {},
     "output_type": "execute_result"
    }
   ],
   "source": [
    "items[3]"
   ]
  },
  {
   "cell_type": "code",
   "execution_count": 6,
   "id": "4295a646-005a-4f35-871b-060d685e8137",
   "metadata": {},
   "outputs": [],
   "source": [
    "# modify list \n",
    "items[0] = \"choco\""
   ]
  },
  {
   "cell_type": "code",
   "execution_count": 7,
   "id": "46436259-3478-4b66-aeac-029e54349c15",
   "metadata": {},
   "outputs": [
    {
     "data": {
      "text/plain": [
       "['choco', 'pasta', 'fruits', ' vegetables']"
      ]
     },
     "execution_count": 7,
     "metadata": {},
     "output_type": "execute_result"
    }
   ],
   "source": [
    "items"
   ]
  },
  {
   "cell_type": "code",
   "execution_count": 11,
   "id": "9d0f7938-17ad-4ffc-aff3-fea3ef4eb245",
   "metadata": {},
   "outputs": [],
   "source": [
    "# append in list \n",
    "items.append('banana')"
   ]
  },
  {
   "cell_type": "code",
   "execution_count": 12,
   "id": "3bf4d13b-03ed-48ad-8536-e389ae573ff8",
   "metadata": {},
   "outputs": [
    {
     "data": {
      "text/plain": [
       "['choco', 'pasta', 'fruits', ' vegetables', 'banana', 'banana']"
      ]
     },
     "execution_count": 12,
     "metadata": {},
     "output_type": "execute_result"
    }
   ],
   "source": [
    "items"
   ]
  },
  {
   "cell_type": "code",
   "execution_count": 13,
   "id": "e230db84-5750-4e7d-9f89-cb58ee5c5db1",
   "metadata": {},
   "outputs": [
    {
     "data": {
      "text/plain": [
       "['choco', 'pasta', 'apple', 'fruits', ' vegetables', 'banana', 'banana']"
      ]
     },
     "execution_count": 13,
     "metadata": {},
     "output_type": "execute_result"
    }
   ],
   "source": [
    "# insertion at  specific position \n",
    "items.insert(2 , \"apple\")\n",
    "items"
   ]
  },
  {
   "cell_type": "code",
   "execution_count": 14,
   "id": "ff450155-db7e-42ba-af5b-ac9688ae8cb7",
   "metadata": {},
   "outputs": [],
   "source": [
    "# join two lists \n",
    "food = [\"bread \" , \"pasta \" , \"fruits \"]\n",
    "tech = [\"ai\" , \"app\" , \"web\" , \"cyber\"]\n",
    "item = food + tech"
   ]
  },
  {
   "cell_type": "code",
   "execution_count": 15,
   "id": "3cc3ceb4-fd4d-4f14-96f1-bee5cdcfe78d",
   "metadata": {},
   "outputs": [
    {
     "data": {
      "text/plain": [
       "['bread ', 'pasta ', 'fruits ', 'ai', 'app', 'web', 'cyber']"
      ]
     },
     "execution_count": 15,
     "metadata": {},
     "output_type": "execute_result"
    }
   ],
   "source": [
    "item"
   ]
  },
  {
   "cell_type": "code",
   "execution_count": 16,
   "id": "3ce1267e-c12f-4ca4-ad2f-bcd79ef16a2b",
   "metadata": {},
   "outputs": [
    {
     "data": {
      "text/plain": [
       "7"
      ]
     },
     "execution_count": 16,
     "metadata": {},
     "output_type": "execute_result"
    }
   ],
   "source": [
    "# length of lists \n",
    "len(item)"
   ]
  },
  {
   "cell_type": "code",
   "execution_count": 17,
   "id": "5b549f7c-6347-47ca-b91c-39900a2c1857",
   "metadata": {},
   "outputs": [
    {
     "data": {
      "text/plain": [
       "True"
      ]
     },
     "execution_count": 17,
     "metadata": {},
     "output_type": "execute_result"
    }
   ],
   "source": [
    "# read list item  using \"in\"\n",
    "\"bread \" in item "
   ]
  },
  {
   "cell_type": "code",
   "execution_count": 18,
   "id": "af6f8b72-ac7e-4f24-a627-8834555dfda7",
   "metadata": {},
   "outputs": [
    {
     "data": {
      "text/plain": [
       "False"
      ]
     },
     "execution_count": 18,
     "metadata": {},
     "output_type": "execute_result"
    }
   ],
   "source": [
    "\"dates\" in items"
   ]
  },
  {
   "cell_type": "code",
   "execution_count": null,
   "id": "8b1fd3d2-abdc-424b-b16b-72d908b02f0a",
   "metadata": {},
   "outputs": [],
   "source": []
  }
 ],
 "metadata": {
  "kernelspec": {
   "display_name": "Python 3 (ipykernel)",
   "language": "python",
   "name": "python3"
  },
  "language_info": {
   "codemirror_mode": {
    "name": "ipython",
    "version": 3
   },
   "file_extension": ".py",
   "mimetype": "text/x-python",
   "name": "python",
   "nbconvert_exporter": "python",
   "pygments_lexer": "ipython3",
   "version": "3.11.4"
  },
  "widgets": {
   "application/vnd.jupyter.widget-state+json": {
    "state": {},
    "version_major": 2,
    "version_minor": 0
   }
  }
 },
 "nbformat": 4,
 "nbformat_minor": 5
}
