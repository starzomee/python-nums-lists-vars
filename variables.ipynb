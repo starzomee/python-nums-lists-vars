{
 "cells": [
  {
   "cell_type": "code",
   "execution_count": 1,
   "id": "d9d76941-d239-4273-bf6f-b432492f0a01",
   "metadata": {},
   "outputs": [],
   "source": [
    "#1. Create a variable called break and assign it a value 5. See what happens and find out the reason behind the behavior that you see.\n",
    "#2.Create two variables. One to store your birth year and another one to store current year. Now calculate your age using these two variables\n",
    "#3.Store your first, middle and last name in three different variables and then print your full name using these variables\n",
    "#4. Answer which of these are invalid variable names: _nation 1record record1 record_one record-one record^one continue"
   ]
  },
  {
   "cell_type": "code",
   "execution_count": 20,
   "id": "b21dcc0c-9eef-4ee9-b8b1-7e73e1bcbff1",
   "metadata": {},
   "outputs": [],
   "source": [
    "# 1.\n",
    "beak=5 "
   ]
  },
  {
   "cell_type": "code",
   "execution_count": 4,
   "id": "4c9ec891-ac3d-4a96-8df3-daf66b26d54f",
   "metadata": {},
   "outputs": [
    {
     "data": {
      "text/plain": [
       "21"
      ]
     },
     "execution_count": 4,
     "metadata": {},
     "output_type": "execute_result"
    }
   ],
   "source": [
    "# 2.\n",
    "my_birth_year = 2003 \n",
    "current_year = 2024\n",
    "Age = current_year - my_birth_year\n",
    "Age"
   ]
  },
  {
   "cell_type": "code",
   "execution_count": 18,
   "id": "2a65ac94-45ac-4976-a27b-eb8b1fe5f914",
   "metadata": {},
   "outputs": [
    {
     "data": {
      "text/plain": [
       "'xyz'"
      ]
     },
     "execution_count": 18,
     "metadata": {},
     "output_type": "execute_result"
    }
   ],
   "source": [
    "# 3. \n",
    "f_name = 'x' \n",
    "m_name = 'y' \n",
    "l_name = 'z' \n",
    "full_name = f_name   +  m_name +  l_name \n",
    "full_name \n"
   ]
  },
  {
   "cell_type": "code",
   "execution_count": null,
   "id": "fd164740-8242-4c79-8bee-886f05ac34de",
   "metadata": {},
   "outputs": [],
   "source": []
  }
 ],
 "metadata": {
  "kernelspec": {
   "display_name": "Python 3 (ipykernel)",
   "language": "python",
   "name": "python3"
  },
  "language_info": {
   "codemirror_mode": {
    "name": "ipython",
    "version": 3
   },
   "file_extension": ".py",
   "mimetype": "text/x-python",
   "name": "python",
   "nbconvert_exporter": "python",
   "pygments_lexer": "ipython3",
   "version": "3.11.4"
  },
  "widgets": {
   "application/vnd.jupyter.widget-state+json": {
    "state": {},
    "version_major": 2,
    "version_minor": 0
   }
  }
 },
 "nbformat": 4,
 "nbformat_minor": 5
}
