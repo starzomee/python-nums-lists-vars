{
 "cells": [
  {
   "cell_type": "code",
   "execution_count": 1,
   "id": "2547f33a-1b5c-4c75-860d-32f0f3a12649",
   "metadata": {},
   "outputs": [],
   "source": [
    "# 1. You have a football field that is 92 meter long and 48.8 meter wide. Find out total area using python and print it.\n",
    "# 2. You bought 9 packets of potato chips from a store. Each packet costs 1.49 dollar and you gave shopkeeper 20 dollar. Find out using python, how many dollars is the shopkeeper going to give you back?\n",
    "# 3. You want to replace tiles in your bathroom which is exactly square and 5.5 feet is its length. If tiles cost 500 rs per square feet, how much will be the total cost to replace all tiles. Calculate and print the cost using python (Hint: Use power operator ** to find area of a square)\n",
    "# 4.  Print binary representation of number 17"
   ]
  },
  {
   "cell_type": "code",
   "execution_count": 8,
   "id": "a1550ad1-9cd2-4ef8-ac40-12ba1d540ded",
   "metadata": {},
   "outputs": [
    {
     "name": "stdout",
     "output_type": "stream",
     "text": [
      "4489.599999999999\n"
     ]
    },
    {
     "data": {
      "text/plain": [
       "4489.6"
      ]
     },
     "execution_count": 8,
     "metadata": {},
     "output_type": "execute_result"
    }
   ],
   "source": [
    "# 1. You have a football field that is 92 meter long and 48.8 meter wide. Find out total area using python and print it.\n",
    "length_football_field = 92 \n",
    "width_football_field = 48.8 \n",
    "Area = length_football_field * width_football_field\n",
    "print(Area)\n",
    "round(Area , 2)"
   ]
  },
  {
   "cell_type": "code",
   "execution_count": 13,
   "id": "50291515-c1d1-4d6b-a7c4-d74cf1e3e09b",
   "metadata": {},
   "outputs": [
    {
     "name": "stdout",
     "output_type": "stream",
     "text": [
      "13.41\n",
      "------------------------------\n",
      "6.59\n"
     ]
    }
   ],
   "source": [
    "# 2. You bought 9 packets of potato chips from a store. Each packet costs 1.49 dollar and you gave shopkeeper 20 dollar. Find out using python, how many dollars is the shopkeeper goin\n",
    "potato_chips_packets = 9 \n",
    "one_packet_cost = 1.49 \n",
    "you_gave_shopkeeper = 20 \n",
    "total_price = potato_chips_packets * one_packet_cost\n",
    "print(total_price)\n",
    "print(\"---\"*10)\n",
    "shopkeeper_give_remaining = you_gave_shopkeeper - total_price\n",
    "print(shopkeeper_give_remaining)"
   ]
  },
  {
   "cell_type": "code",
   "execution_count": 15,
   "id": "de3dc483-1a07-4ed8-a029-3bbf08c9564d",
   "metadata": {},
   "outputs": [
    {
     "name": "stdout",
     "output_type": "stream",
     "text": [
      "Area is : 30.25\n"
     ]
    },
    {
     "data": {
      "text/plain": [
       "15125.0"
      ]
     },
     "execution_count": 15,
     "metadata": {},
     "output_type": "execute_result"
    }
   ],
   "source": [
    "# 3. You want to replace tiles in your bathroom which is exactly square and 5.5 feet is its length. If tiles cost 500 rs per square feet, how much will be the total cost to replace all tiles. Calculate and print the cost using python (Hint: Use power operator ** to find area of a square)\n",
    "length_tiles = 5.5 \n",
    "Area = length_tiles ** 2\n",
    "print(\"Area is :\" , Area)\n",
    "cost = 500 \n",
    "total_cost = cost * Area\n",
    "total_cost\n"
   ]
  },
  {
   "cell_type": "code",
   "execution_count": 18,
   "id": "267e86b2-dd68-4f6d-aa35-4e3829c83691",
   "metadata": {},
   "outputs": [
    {
     "data": {
      "text/plain": [
       "'10001'"
      ]
     },
     "execution_count": 18,
     "metadata": {},
     "output_type": "execute_result"
    }
   ],
   "source": [
    "# 4.  Print binary representation of number 17\n",
    "number = 17 \n",
    "format(number , 'b')"
   ]
  },
  {
   "cell_type": "code",
   "execution_count": null,
   "id": "b7ce68c0-d84c-441a-b658-2ba67377f3a6",
   "metadata": {},
   "outputs": [],
   "source": []
  }
 ],
 "metadata": {
  "kernelspec": {
   "display_name": "Python 3 (ipykernel)",
   "language": "python",
   "name": "python3"
  },
  "language_info": {
   "codemirror_mode": {
    "name": "ipython",
    "version": 3
   },
   "file_extension": ".py",
   "mimetype": "text/x-python",
   "name": "python",
   "nbconvert_exporter": "python",
   "pygments_lexer": "ipython3",
   "version": "3.11.4"
  },
  "widgets": {
   "application/vnd.jupyter.widget-state+json": {
    "state": {},
    "version_major": 2,
    "version_minor": 0
   }
  }
 },
 "nbformat": 4,
 "nbformat_minor": 5
}
