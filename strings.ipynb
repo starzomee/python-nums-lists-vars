{
 "cells": [
  {
   "cell_type": "code",
   "execution_count": 1,
   "id": "1487c635-1722-4e6f-a33a-2fdd82a9a462",
   "metadata": {},
   "outputs": [
    {
     "data": {
      "text/plain": [
       "'ice cream'"
      ]
     },
     "execution_count": 1,
     "metadata": {},
     "output_type": "execute_result"
    }
   ],
   "source": [
    "text = \"ice cream\"\n",
    "text"
   ]
  },
  {
   "cell_type": "code",
   "execution_count": 2,
   "id": "81cd233c-85ec-4ebc-857d-7ede58344c54",
   "metadata": {},
   "outputs": [
    {
     "data": {
      "text/plain": [
       "'i'"
      ]
     },
     "execution_count": 2,
     "metadata": {},
     "output_type": "execute_result"
    }
   ],
   "source": [
    "text[0]"
   ]
  },
  {
   "cell_type": "code",
   "execution_count": 3,
   "id": "cbf3c02e-8fe0-46bc-841b-67875872b5dc",
   "metadata": {},
   "outputs": [
    {
     "data": {
      "text/plain": [
       "' '"
      ]
     },
     "execution_count": 3,
     "metadata": {},
     "output_type": "execute_result"
    }
   ],
   "source": [
    "text[3]"
   ]
  },
  {
   "cell_type": "code",
   "execution_count": 5,
   "id": "3d890b8e-44ba-49f1-ab26-dbb597a94ba6",
   "metadata": {},
   "outputs": [],
   "source": [
    "# text[0] = 'g' immutable you can do this "
   ]
  },
  {
   "cell_type": "code",
   "execution_count": 7,
   "id": "6662e1f2-1fcb-4b75-b77e-6b3cd91b77ee",
   "metadata": {},
   "outputs": [
    {
     "data": {
      "text/plain": [
       "'ice'"
      ]
     },
     "execution_count": 7,
     "metadata": {},
     "output_type": "execute_result"
    }
   ],
   "source": [
    "text[0:3] # printing a value from zero to third idex using subindexing"
   ]
  },
  {
   "cell_type": "code",
   "execution_count": 8,
   "id": "97318d31-0dfa-4639-9cca-e0b5dd15c86e",
   "metadata": {},
   "outputs": [
    {
     "data": {
      "text/plain": [
       "'m'"
      ]
     },
     "execution_count": 8,
     "metadata": {},
     "output_type": "execute_result"
    }
   ],
   "source": [
    "# reverse\n",
    "text[-1]"
   ]
  },
  {
   "cell_type": "code",
   "execution_count": 9,
   "id": "b875c77b-a6e8-4f8d-b51b-472d02d3fdf9",
   "metadata": {},
   "outputs": [
    {
     "data": {
      "text/plain": [
       "''"
      ]
     },
     "execution_count": 9,
     "metadata": {},
     "output_type": "execute_result"
    }
   ],
   "source": [
    "# reverse\n",
    "text[-1:1]"
   ]
  },
  {
   "cell_type": "code",
   "execution_count": 10,
   "id": "c32a5108-c4e1-4a0f-9c01-eaef0ef1e518",
   "metadata": {},
   "outputs": [
    {
     "data": {
      "text/plain": [
       "'e cream'"
      ]
     },
     "execution_count": 10,
     "metadata": {},
     "output_type": "execute_result"
    }
   ],
   "source": [
    "# start defined and end not defined still how to print values\n",
    "text[2:]"
   ]
  },
  {
   "cell_type": "code",
   "execution_count": 14,
   "id": "4033dd8f-6e99-475a-b639-bfd9580b44d5",
   "metadata": {},
   "outputs": [
    {
     "name": "stdout",
     "output_type": "stream",
     "text": [
      "name \n",
      "xya\n"
     ]
    }
   ],
   "source": [
    "# single or double colns can  be used \n",
    "x = \"name \"\n",
    "y = 'xya'\n",
    "print(x)\n",
    "print(y)"
   ]
  },
  {
   "cell_type": "code",
   "execution_count": 17,
   "id": "cc1e29d2-e627-4b0e-a58a-20ca6d31fa5f",
   "metadata": {},
   "outputs": [],
   "source": [
    "# multi_libe string \n",
    "# addrress = \"line 1 room 54 ......\n",
    "# city xyz \n",
    "# country abc \" \n"
   ]
  },
  {
   "cell_type": "code",
   "execution_count": 20,
   "id": "27ad3b29-5afe-4b23-9339-1165a045293d",
   "metadata": {},
   "outputs": [
    {
     "data": {
      "text/plain": [
       "' my name is shani  \\n\\ni am a python developer '"
      ]
     },
     "execution_count": 20,
     "metadata": {},
     "output_type": "execute_result"
    }
   ],
   "source": [
    "# for multiline string we use triple cots\n",
    "x = ''' my name is shani \n",
    "i am a python developer '''\n",
    "x"
   ]
  },
  {
   "cell_type": "code",
   "execution_count": 21,
   "id": "4925b4c5-119d-4f04-984b-5ba95e91ee11",
   "metadata": {},
   "outputs": [
    {
     "data": {
      "text/plain": [
       "'hello world '"
      ]
     },
     "execution_count": 21,
     "metadata": {},
     "output_type": "execute_result"
    }
   ],
   "source": [
    "# string concatination \n",
    "x  = \"hello\"\n",
    "y = \"world \"\n",
    "z = x + \" \" + y \n",
    "z"
   ]
  },
  {
   "cell_type": "code",
   "execution_count": 25,
   "id": "7324c0c6-f81a-4de1-bbe1-dac401747d35",
   "metadata": {},
   "outputs": [
    {
     "data": {
      "text/plain": [
       "'24 this is :'"
      ]
     },
     "execution_count": 25,
     "metadata": {},
     "output_type": "execute_result"
    }
   ],
   "source": [
    "# how join int and string  # type casting \n",
    "w = 24 \n",
    "q = \"this is :\"\n",
    "\n",
    "z = str(w) + \" \" + q\n",
    "z"
   ]
  },
  {
   "cell_type": "code",
   "execution_count": null,
   "id": "1959f84f-270c-4fcc-89f8-a660449b2885",
   "metadata": {},
   "outputs": [],
   "source": []
  }
 ],
 "metadata": {
  "kernelspec": {
   "display_name": "Python 3 (ipykernel)",
   "language": "python",
   "name": "python3"
  },
  "language_info": {
   "codemirror_mode": {
    "name": "ipython",
    "version": 3
   },
   "file_extension": ".py",
   "mimetype": "text/x-python",
   "name": "python",
   "nbconvert_exporter": "python",
   "pygments_lexer": "ipython3",
   "version": "3.11.4"
  },
  "widgets": {
   "application/vnd.jupyter.widget-state+json": {
    "state": {},
    "version_major": 2,
    "version_minor": 0
   }
  }
 },
 "nbformat": 4,
 "nbformat_minor": 5
}
